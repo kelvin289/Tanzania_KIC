{
 "cells": [
  {
   "cell_type": "markdown",
   "id": "d5ca4f41-9c4b-408a-b107-b052ba71d0ab",
   "metadata": {},
   "source": [
    "TEST ASSIGNMENT_2"
   ]
  },
  {
   "cell_type": "code",
   "execution_count": 4,
   "id": "f9ab0165-1f4a-4d28-8d26-834d17b614d9",
   "metadata": {},
   "outputs": [],
   "source": [
    "import pytest"
   ]
  },
  {
   "cell_type": "code",
   "execution_count": 10,
   "id": "272133dd-88cb-4189-8e37-a1238444778b",
   "metadata": {},
   "outputs": [
    {
     "name": "stdout",
     "output_type": "stream",
     "text": [
      "Defaulting to user installation because normal site-packages is not writeable\n",
      "Requirement already satisfied: pytest in c:\\programdata\\anaconda3\\lib\\site-packages (7.4.4)\n",
      "Requirement already satisfied: iniconfig in c:\\programdata\\anaconda3\\lib\\site-packages (from pytest) (1.1.1)\n",
      "Requirement already satisfied: packaging in c:\\programdata\\anaconda3\\lib\\site-packages (from pytest) (24.1)\n",
      "Requirement already satisfied: pluggy<2.0,>=0.12 in c:\\programdata\\anaconda3\\lib\\site-packages (from pytest) (1.0.0)\n",
      "Requirement already satisfied: colorama in c:\\programdata\\anaconda3\\lib\\site-packages (from pytest) (0.4.6)\n",
      "Note: you may need to restart the kernel to use updated packages.\n"
     ]
    }
   ],
   "source": [
    "pip install pytest"
   ]
  },
  {
   "cell_type": "code",
   "execution_count": 6,
   "id": "7b9c895b-3dc1-4399-bc25-0230f387154e",
   "metadata": {},
   "outputs": [],
   "source": [
    "import pytest"
   ]
  },
  {
   "cell_type": "code",
   "execution_count": 14,
   "id": "f22d367f-40e5-4533-8f0b-9af5d3ecf5e2",
   "metadata": {},
   "outputs": [
    {
     "name": "stdout",
     "output_type": "stream",
     "text": [
      "\u001b[1m================================================= test session starts =================================================\u001b[0m\n",
      "platform win32 -- Python 3.12.7, pytest-7.4.4, pluggy-1.0.0 -- C:\\ProgramData\\anaconda3\\python.exe\n",
      "cachedir: .pytest_cache\n",
      "rootdir: C:\\Users\\K3LVIN BR0WN\\Documents\\Tanzania_KIC\n",
      "plugins: anyio-4.2.0, typeguard-4.3.0\n",
      "\u001b[1mcollecting ... \u001b[0mcollected 0 items\n",
      "\n",
      "\u001b[33m================================================ \u001b[33mno tests ran\u001b[0m\u001b[33m in 0.02s\u001b[0m\u001b[33m ================================================\u001b[0m\n"
     ]
    },
    {
     "data": {
      "text/plain": [
       "<ExitCode.NO_TESTS_COLLECTED: 5>"
      ]
     },
     "execution_count": 14,
     "metadata": {},
     "output_type": "execute_result"
    }
   ],
   "source": [
    "\n",
    "# Define all the functions\n",
    "def format_string(name, age):\n",
    "    return f\"My name is {name} and I am {age} years old\"\n",
    "    \n",
    "def conditional_check(number):\n",
    "    if number > 10:\n",
    "        return \"Greater\"\n",
    "    elif number < 10:\n",
    "        return \"lesser\"\n",
    "    else:\n",
    "        return \"equal\"\n",
    "\n",
    "def loop_sum(n):\n",
    "    total = 0\n",
    "    for i in range(1, n + 1):\n",
    "        total += i\n",
    "    return total\n",
    "\n",
    "def list_operations(numbers):\n",
    "    total = sum(numbers)\n",
    "    maximum = max(numbers)\n",
    "    minimum = min(numbers)\n",
    "    return (total, maximum, minimum)\n",
    "\n",
    "def dict_operations(students_dict):\n",
    "    return {name for name, score in students_dict.items() if score > 80}\n",
    "\n",
    "def set_operations(list1, list2):\n",
    "    return set(list1).intersection(list2)\n",
    "\n",
    "def arithmetic_ops(a, b):\n",
    "    results = {\n",
    "        \"sum\": a + b,\n",
    "        \"difference\": a - b,\n",
    "        \"product\": a * b,\n",
    "        \"quotient\": a / b if b != 0 else \"undefined (division by zero)\"\n",
    "    }\n",
    "    return results\n",
    "\n",
    "def logical_ops(x, y):\n",
    "    results = {\n",
    "        \"AND\": x and y,\n",
    "        \"OR\": x or y,\n",
    "        \"NOT x\": not x,\n",
    "        \"NOT y\": not y,\n",
    "        \"XOR\": x ^ y\n",
    "    }\n",
    "    return results\n",
    "\n",
    "def bitwise_ops(a, b):\n",
    "    results = {\n",
    "        \"AND\": a & b,\n",
    "        \"OR\": a | b,\n",
    "        \"XOR\": a ^ b,\n",
    "        \"NOT a\": ~a,\n",
    "        \"NOT b\": ~b,\n",
    "        \"a left shift\": a << 1,\n",
    "        \"b left shift\": b << 1,\n",
    "        \"a right shift\": a >> 1,\n",
    "        \"b right shift\": b >> 1\n",
    "    }\n",
    "    return results\n",
    "\n",
    "# Define the test functions\n",
    "def test_format_string():\n",
    "    result = format_string(\"juma\", 20)\n",
    "    expected = \"My name is juma and I am 20 years old\" \n",
    "    assert result == expected, f\"Expected '{expected}', but got '{result}'\"\n",
    "    \n",
    "def test_conditional_check():\n",
    "    assert conditional_check(9) == \"lesser\"\n",
    "    assert conditional_check(10) == \"equal\"\n",
    "    assert conditional_check(11) == \"Greater\"\n",
    "\n",
    "def test_loop_sum():\n",
    "    assert loop_sum(5) == 15\n",
    "    assert loop_sum(3) == 6\n",
    "    assert loop_sum(1) == 1\n",
    "\n",
    "def test_list_operations():\n",
    "    numbers = [2, 3, 4, 5, 6, 7, 8, 8, 9, 0]\n",
    "    assert list_operations([10, 20, 30]) == (60,30, 10)\n",
    "\n",
    "def test_dict_operations():\n",
    "    students_dict = {\n",
    "        \"juma\": 20,\n",
    "        \"Ashraf\": 80,\n",
    "        \"Ramadhani\": 90,\n",
    "        \"Rashid\": 85,\n",
    "        \"Zulfa\": 95,\n",
    "        \"Abdul\": 93,\n",
    "    }\n",
    "    assert dict_operations(students_dict) == {\"Ramadhani\", \"Rashid\", \"Zulfa\", \"Abdul\"}\n",
    "\n",
    "def test_set_ops():\n",
    "    list1 = [2, 3, 5, 6, 5, 8, 9, 0, 0, 6, 1]\n",
    "    list2 = [3, 3, 6, 2, 8, 0, 1, 7, 7, 12]\n",
    "    assert set_ops(list1, list2) == {0, 1, 2, 3, 6, 8}\n",
    "\n",
    "def test_arithmetic_ops():\n",
    "    assert arithmetic_ops(5.5, 3.2) == {\n",
    "        \"sum\": 8.7,\n",
    "        \"difference\": 2.3,\n",
    "        \"product\": 17.6,\n",
    "        \"quotient\": 5.5 / 3.2\n",
    "    }\n",
    "\n",
    "def test_logical_ops():\n",
    "    assert logical_ops(True, False) == {\n",
    "        \"AND\": False,\n",
    "        \"OR\": True,\n",
    "        \"NOT x\": False,\n",
    "        \"NOT y\": True,\n",
    "        \"XOR\": True\n",
    "    }\n",
    "\n",
    "def test_bitwise_ops():\n",
    "    assert bitwise_ops(12, 5) == {\n",
    "        \"AND\": 12 & 5,\n",
    "        \"OR\": 12 | 5,\n",
    "        \"XOR\": 12 ^ 5,\n",
    "        \"NOT a\": ~12,\n",
    "        \"NOT b\": ~5,\n",
    "        \"a left shift\": 12 << 1,\n",
    "        \"b left shift\": 5 << 1,\n",
    "        \"a right shift\": 12 >> 1,\n",
    "        \"b right shift\": 5 >> 1\n",
    "    }\n",
    "\n",
    "# Run the tests\n",
    "pytest.main([\"-v\"])\n"
   ]
  },
  {
   "cell_type": "code",
   "execution_count": null,
   "id": "45c10dc7-d222-452b-bf0d-8c2ef78a91b1",
   "metadata": {},
   "outputs": [],
   "source": []
  }
 ],
 "metadata": {
  "kernelspec": {
   "display_name": "Python 3 (ipykernel)",
   "language": "python",
   "name": "python3"
  },
  "language_info": {
   "codemirror_mode": {
    "name": "ipython",
    "version": 3
   },
   "file_extension": ".py",
   "mimetype": "text/x-python",
   "name": "python",
   "nbconvert_exporter": "python",
   "pygments_lexer": "ipython3",
   "version": "3.12.7"
  }
 },
 "nbformat": 4,
 "nbformat_minor": 5
}
