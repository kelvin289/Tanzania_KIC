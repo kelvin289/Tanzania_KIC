{
 "cells": [
  {
   "cell_type": "markdown",
   "id": "c078c8d4-2b82-4cbb-9fad-d2f7daa52570",
   "metadata": {},
   "source": [
    "Part 1: PYTHON SYNTAX"
   ]
  },
  {
   "cell_type": "code",
   "execution_count": 8,
   "id": "3bd637e3-6652-455d-bb7e-ed18604749dd",
   "metadata": {},
   "outputs": [
    {
     "name": "stdout",
     "output_type": "stream",
     "text": [
      "My name is juma and i am 20 years old\n"
     ]
    }
   ],
   "source": [
    "def format_string(name,age):\n",
    "    name= \"juma\"\n",
    "    age= 20\n",
    "    return f\"My name is {name} and i am {age} years old\"\n",
    "    \n",
    "formatted_string =format_string(\"juma\",20)\n",
    "print(formatted_string)"
   ]
  },
  {
   "cell_type": "code",
   "execution_count": 10,
   "id": "4a7c32a6-79ea-4e79-be11-63461fae17c1",
   "metadata": {},
   "outputs": [
    {
     "name": "stdout",
     "output_type": "stream",
     "text": [
      "lesser\n"
     ]
    }
   ],
   "source": [
    "def conditional_check(number):\n",
    "    if number > 10:\n",
    "        return \"Greater\"\n",
    "    elif number < 10:\n",
    "        return \"lesser\"\n",
    "    else:\n",
    "        return \"equal\"\n",
    "\n",
    "result=conditional_check(9)\n",
    "print(result)"
   ]
  },
  {
   "cell_type": "code",
   "execution_count": 6,
   "id": "dfdecf0d-9a79-46e6-9006-1eaa485cdf37",
   "metadata": {},
   "outputs": [
    {
     "name": "stdout",
     "output_type": "stream",
     "text": [
      "the sum of numbers from 1 to 5 is 15\n"
     ]
    }
   ],
   "source": [
    "def loop_sum(n):\n",
    "    total=0\n",
    "    for i in range(1,n +1):\n",
    "        total +=i\n",
    "    return total\n",
    "\n",
    "n=5\n",
    "print(f\"the sum of numbers from 1 to {n} is {loop_sum(n)}\")"
   ]
  },
  {
   "cell_type": "markdown",
   "id": "f822f46c-723c-4139-b952-c9aff3ce68dd",
   "metadata": {},
   "source": [
    "Part 2: DATA STRUCTURE"
   ]
  },
  {
   "cell_type": "code",
   "execution_count": 4,
   "id": "662fd2f3-8417-4401-b84f-c92aa2e655a6",
   "metadata": {},
   "outputs": [
    {
     "name": "stdout",
     "output_type": "stream",
     "text": [
      "(52, 9, 0)\n"
     ]
    }
   ],
   "source": [
    "def list_operations(numbers):\n",
    "     \n",
    "    total= sum(numbers)\n",
    "    maximum= max(numbers)\n",
    "    minimum= min(numbers)\n",
    "    return(total,maximum,minimum)\n",
    "\n",
    "numbers = [2,3,4,5,6,7,8,8,9,0]\n",
    "result =list_operations(numbers)\n",
    "print(result)    "
   ]
  },
  {
   "cell_type": "code",
   "execution_count": 9,
   "id": "5638409f-3a8f-453d-8c3f-dac0e2a23e28",
   "metadata": {},
   "outputs": [
    {
     "name": "stdout",
     "output_type": "stream",
     "text": [
      "student with scores above 80 is {'Rashid', 'Abdul', 'Ramadhani', 'Zulfa'}\n"
     ]
    }
   ],
   "source": [
    "def dict_operations(students_dict):\n",
    "    return {name for name,score in students_dict.items() if score >80}\n",
    "students_dict={\n",
    "        \"juma\":20,\n",
    "        \"Ashraf\":80,\n",
    "        \"Ramadhani\":90,\n",
    "        \"Rashid\":85,\n",
    "        \"Zulfa\":95,\n",
    "        \"Abdul\":93,\n",
    "    }\n",
    "\n",
    "result=dict_operations(students_dict)\n",
    "print(f\"student with scores above 80 is {result}\")"
   ]
  },
  {
   "cell_type": "code",
   "execution_count": 12,
   "id": "c5d6bd29-17c3-48fa-83af-6c47c2070c69",
   "metadata": {},
   "outputs": [
    {
     "name": "stdout",
     "output_type": "stream",
     "text": [
      "common elements are {0, 1, 2, 3, 6, 8}\n"
     ]
    }
   ],
   "source": [
    "def set_operations(list1,list2):\n",
    "    return set(list1).intersection(list2)\n",
    "\n",
    "list1=[2,3,5,6,5,8,9,0,0,6,1]\n",
    "list2=[3,3,6,2,8,0,1,7,7,12,]\n",
    "result=set_operations(list1,list2)\n",
    "print(f\"common elements are {result}\")"
   ]
  },
  {
   "cell_type": "markdown",
   "id": "aed65b1a-c131-496b-af01-75ddcb84c10b",
   "metadata": {},
   "source": [
    "Part3: OPERATORS"
   ]
  },
  {
   "cell_type": "code",
   "execution_count": 26,
   "id": "85892fb9-0532-4eb5-a612-4033190806fb",
   "metadata": {},
   "outputs": [
    {
     "name": "stdout",
     "output_type": "stream",
     "text": [
      "Sum: 8.7\n",
      "Difference: 2.3\n",
      "Product: 17.6\n",
      "Quotient: 1.71875\n"
     ]
    }
   ],
   "source": [
    "def arithmetic_ops(a, b):\n",
    "    results = {\n",
    "        \"sum\": a + b,\n",
    "        \"difference\": a - b,\n",
    "        \"product\": a * b,\n",
    "        \"quotient\": a / b if b != 0 else \"undefined (division by zero)\"\n",
    "    }\n",
    "    return results\n",
    "\n",
    "\n",
    "a = 5.5\n",
    "b = 3.2\n",
    "results = arithmetic_ops(a, b)\n",
    "for operation, result in results.items():\n",
    "    print(f\"{operation.capitalize()}: {result}\")"
   ]
  },
  {
   "cell_type": "code",
   "execution_count": 29,
   "id": "90f19f13-98ef-43f3-b5e8-87d4236d97c7",
   "metadata": {},
   "outputs": [
    {
     "name": "stdout",
     "output_type": "stream",
     "text": [
      "AND: False\n",
      "OR: True\n",
      "NOT x: False\n",
      "NOT y: True\n",
      "XOR: True\n"
     ]
    }
   ],
   "source": [
    "def logical_ops(x, y):\n",
    "    results = {\n",
    "        \"AND\": x and y,\n",
    "        \"OR\": x or y,\n",
    "        \"NOT x\": not x,\n",
    "        \"NOT y\": not y,\n",
    "        \"XOR\": x ^ y\n",
    "    }\n",
    "    return results\n",
    "\n",
    "\n",
    "x = True\n",
    "y = False\n",
    "results = logical_ops(x, y)\n",
    "for ops, result in results.items():\n",
    "    print(f\"{ops}: {result}\")"
   ]
  },
  {
   "cell_type": "code",
   "execution_count": 32,
   "id": "b648a9e8-76c9-4054-af6a-6d3e69ae5253",
   "metadata": {},
   "outputs": [
    {
     "name": "stdout",
     "output_type": "stream",
     "text": [
      "AND: 4\n",
      "OR: 13\n",
      "XOR: 9\n",
      "NOT a: -13\n",
      "NOT b: -6\n",
      "a left shift: 24\n",
      "b left shift: 10\n",
      "a right shift: 6\n",
      "b right shift: 2\n"
     ]
    }
   ],
   "source": [
    "def bitwise_ops(a, b):\n",
    "    results = {\n",
    "        \"AND\": a & b,\n",
    "        \"OR\": a | b,\n",
    "        \"XOR\": a ^ b,\n",
    "        \"NOT a\": ~a,\n",
    "        \"NOT b\": ~b,\n",
    "        \"a left shift\": a << 1,\n",
    "        \"b left shift\": b << 1,\n",
    "        \"a right shift\": a >> 1,\n",
    "        \"b right shift\": b >> 1\n",
    "    }\n",
    "    return results\n",
    "\n",
    "\n",
    "a = 12\n",
    "b = 5\n",
    "results = bitwise_ops(a, b)\n",
    "for ops, result in results.items():\n",
    "    print(f\"{ops}: {result}\")\n"
   ]
  },
  {
   "cell_type": "code",
   "execution_count": null,
   "id": "0fdc5349-9981-4b24-9931-c59ae4733ad3",
   "metadata": {},
   "outputs": [],
   "source": []
  }
 ],
 "metadata": {
  "kernelspec": {
   "display_name": "Python 3 (ipykernel)",
   "language": "python",
   "name": "python3"
  },
  "language_info": {
   "codemirror_mode": {
    "name": "ipython",
    "version": 3
   },
   "file_extension": ".py",
   "mimetype": "text/x-python",
   "name": "python",
   "nbconvert_exporter": "python",
   "pygments_lexer": "ipython3",
   "version": "3.12.7"
  }
 },
 "nbformat": 4,
 "nbformat_minor": 5
}
